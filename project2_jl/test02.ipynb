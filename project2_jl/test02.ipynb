{
 "cells": [
  {
   "cell_type": "code",
   "execution_count": 3,
   "metadata": {},
   "outputs": [
    {
     "data": {
      "text/plain": [
       "simple3_init (generic function with 1 method)"
      ]
     },
     "metadata": {},
     "output_type": "display_data"
    }
   ],
   "source": [
    "include(\"helpers.jl\")\n",
    "include(\"simple.jl\")"
   ]
  },
  {
   "cell_type": "code",
   "execution_count": 11,
   "metadata": {},
   "outputs": [],
   "source": [
    "using Plots"
   ]
  },
  {
   "cell_type": "code",
   "execution_count": 22,
   "metadata": {},
   "outputs": [
    {
     "data": {
      "text/plain": [
       "simple1_constraints (generic function with 1 method)"
      ]
     },
     "metadata": {},
     "output_type": "display_data"
    }
   ],
   "source": [
    "function simple1_constraints(x::Vector)\n",
    "    return [x[1] + x[2]^2 - 1,\n",
    "            -x[1] - x[2]]\n",
    "end"
   ]
  },
  {
   "cell_type": "code",
   "execution_count": 28,
   "metadata": {},
   "outputs": [
    {
     "data": {
      "text/plain": [
       "3×1 Matrix{Vector{Float64}}:\n",
       " [-3.0, -3.0]\n",
       " [-2.9, -2.9]\n",
       " [-2.8, -2.8]"
      ]
     },
     "metadata": {},
     "output_type": "display_data"
    }
   ],
   "source": [
    "xr = Vector(-3:0.1:3)\n",
    "yr = Vector(-3:0.1:3)\n",
    "v = [[a,b] for (a,b) in zip(xr, yr)];\n",
    "v[1:3,:]"
   ]
  },
  {
   "cell_type": "code",
   "execution_count": 38,
   "metadata": {},
   "outputs": [],
   "source": [
    "# function simple1(x::Vector)\n",
    "#     return -x[1] * x[2] + 2.0 / (3.0 * sqrt(3.0))\n",
    "# end\n",
    "# k= [simple1([a,b]) for a=xr, b=yr]"
   ]
  },
  {
   "cell_type": "code",
   "execution_count": 39,
   "metadata": {},
   "outputs": [
    {
     "data": {
      "text/plain": [
       "3×61 Matrix{Vector{Float64}}:\n",
       " [5.0, 6.0]  [4.41, 5.9]  [3.84, 5.8]  …  [4.41, 0.1]   [5.0, 0.0]\n",
       " [5.1, 5.9]  [4.51, 5.8]  [3.94, 5.7]     [4.51, 0.0]   [5.1, -0.1]\n",
       " [5.2, 5.8]  [4.61, 5.7]  [4.04, 5.6]     [4.61, -0.1]  [5.2, -0.2]"
      ]
     },
     "metadata": {},
     "output_type": "display_data"
    }
   ],
   "source": [
    "# simple1_constraints(v[1])\n",
    "c= [simple1_constraints([a,b]) for a=xr, b=yr]\n",
    "c[1:3, :]"
   ]
  },
  {
   "cell_type": "code",
   "execution_count": null,
   "metadata": {},
   "outputs": [],
   "source": [
    "a = [[5.0, 6.0]  [4.41, 5.9]  [3.84, 5.8]]"
   ]
  }
 ],
 "metadata": {
  "kernelspec": {
   "display_name": "Julia 1.7.2",
   "language": "julia",
   "name": "julia-1.7"
  },
  "language_info": {
   "file_extension": ".jl",
   "mimetype": "application/julia",
   "name": "julia",
   "version": "1.7.2"
  },
  "orig_nbformat": 4
 },
 "nbformat": 4,
 "nbformat_minor": 2
}
