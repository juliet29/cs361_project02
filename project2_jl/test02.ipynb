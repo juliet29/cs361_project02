{
 "cells": [
  {
   "cell_type": "code",
   "execution_count": 3,
   "metadata": {},
   "outputs": [
    {
     "data": {
      "text/plain": [
       "simple3_init (generic function with 1 method)"
      ]
     },
     "metadata": {},
     "output_type": "display_data"
    }
   ],
   "source": [
    "include(\"helpers.jl\")\n",
    "include(\"simple.jl\")"
   ]
  },
  {
   "cell_type": "code",
   "execution_count": 11,
   "metadata": {},
   "outputs": [],
   "source": [
    "using Plots"
   ]
  },
  {
   "cell_type": "code",
   "execution_count": 22,
   "metadata": {},
   "outputs": [
    {
     "data": {
      "text/plain": [
       "simple1_constraints (generic function with 1 method)"
      ]
     },
     "metadata": {},
     "output_type": "display_data"
    }
   ],
   "source": [
    "function simple1_constraints(x::Vector)\n",
    "    return [x[1] + x[2]^2 - 1,\n",
    "            -x[1] - x[2]]\n",
    "end"
   ]
  },
  {
   "cell_type": "code",
   "execution_count": 28,
   "metadata": {},
   "outputs": [
    {
     "data": {
      "text/plain": [
       "3×1 Matrix{Vector{Float64}}:\n",
       " [-3.0, -3.0]\n",
       " [-2.9, -2.9]\n",
       " [-2.8, -2.8]"
      ]
     },
     "metadata": {},
     "output_type": "display_data"
    }
   ],
   "source": [
    "xr = Vector(-3:0.1:3)\n",
    "yr = Vector(-3:0.1:3)\n",
    "v = [[a,b] for (a,b) in zip(xr, yr)];\n",
    "v[1:3,:]"
   ]
  },
  {
   "cell_type": "code",
   "execution_count": 38,
   "metadata": {},
   "outputs": [],
   "source": [
    "# function simple1(x::Vector)\n",
    "#     return -x[1] * x[2] + 2.0 / (3.0 * sqrt(3.0))\n",
    "# end\n",
    "# k= [simple1([a,b]) for a=xr, b=yr]"
   ]
  },
  {
   "cell_type": "code",
   "execution_count": 39,
   "metadata": {},
   "outputs": [
    {
     "data": {
      "text/plain": [
       "3×61 Matrix{Vector{Float64}}:\n",
       " [5.0, 6.0]  [4.41, 5.9]  [3.84, 5.8]  …  [4.41, 0.1]   [5.0, 0.0]\n",
       " [5.1, 5.9]  [4.51, 5.8]  [3.94, 5.7]     [4.51, 0.0]   [5.1, -0.1]\n",
       " [5.2, 5.8]  [4.61, 5.7]  [4.04, 5.6]     [4.61, -0.1]  [5.2, -0.2]"
      ]
     },
     "metadata": {},
     "output_type": "display_data"
    }
   ],
   "source": [
    "# simple1_constraints(v[1])\n",
    "c= [simple1_constraints([a,b]) for a=xr, b=yr]\n",
    "c[1:3, :]"
   ]
  },
  {
   "cell_type": "code",
   "execution_count": null,
   "metadata": {},
   "outputs": [],
   "source": [
    "a = [[5.0, 6.0]  [4.41, 5.9]  [3.84, 5.8]]"
   ]
  },
  {
   "cell_type": "code",
   "execution_count": 119,
   "metadata": {},
   "outputs": [
    {
     "data": {
      "text/plain": [
       "2-element Vector{Float64}:\n",
       "  1.5\n",
       " -1.5"
      ]
     },
     "metadata": {},
     "output_type": "display_data"
    }
   ],
   "source": [
    "simple2_constraints([1, -0.5])"
   ]
  },
  {
   "cell_type": "code",
   "execution_count": 1,
   "metadata": {},
   "outputs": [],
   "source": [
    "using LinearAlgebra"
   ]
  },
  {
   "cell_type": "code",
   "execution_count": 5,
   "metadata": {},
   "outputs": [
    {
     "data": {
      "text/plain": [
       "2×2 Matrix{Float64}:\n",
       " 1.0  0.0\n",
       " 0.0  1.0"
      ]
     },
     "metadata": {},
     "output_type": "display_data"
    }
   ],
   "source": [
    "m =2\n",
    "mm = Matrix(1.0 * I, m, m)"
   ]
  },
  {
   "cell_type": "code",
   "execution_count": 7,
   "metadata": {},
   "outputs": [
    {
     "data": {
      "text/plain": [
       "2-element Vector{Float64}:\n",
       " 1.0\n",
       " 0.0"
      ]
     },
     "metadata": {},
     "output_type": "display_data"
    }
   ],
   "source": [
    "mm[1,:]"
   ]
  },
  {
   "cell_type": "code",
   "execution_count": 14,
   "metadata": {},
   "outputs": [
    {
     "name": "stdout",
     "output_type": "stream",
     "text": [
      "1\n",
      "bye!\n",
      "2\n",
      "bye!\n",
      "3\n",
      "bye!\n",
      "4\n",
      "bye!\n",
      "5\n",
      "bye!\n",
      "6\n"
     ]
    }
   ],
   "source": [
    "function test()\n",
    "    for i = 1:20\n",
    "        println(i)\n",
    "        if i > 5\n",
    "            return \n",
    "        end\n",
    "        println(\"bye!\")\n",
    "    end\n",
    "    println(\"bye in function\")\n",
    "end\n",
    "test()\n"
   ]
  },
  {
   "cell_type": "code",
   "execution_count": 15,
   "metadata": {},
   "outputs": [
    {
     "data": {
      "text/plain": [
       "7-element Vector{Float64}:\n",
       " 1.0\n",
       " 2.0\n",
       " 3.0\n",
       " 4.0\n",
       " 5.01\n",
       " 5.02\n",
       " 5.002"
      ]
     },
     "metadata": {},
     "output_type": "display_data"
    }
   ],
   "source": [
    "arr = [1,2,3,4,5.01,5.02, 5.002]"
   ]
  },
  {
   "cell_type": "code",
   "execution_count": 16,
   "metadata": {},
   "outputs": [
    {
     "data": {
      "text/plain": [
       "5.02"
      ]
     },
     "metadata": {},
     "output_type": "display_data"
    }
   ],
   "source": [
    "arr[end-1]"
   ]
  },
  {
   "cell_type": "code",
   "execution_count": 20,
   "metadata": {},
   "outputs": [
    {
     "name": "stdout",
     "output_type": "stream",
     "text": [
      "-0.017999999999999794\n",
      "-0.017999999999999794\n",
      "-0.017999999999999794\n",
      "-0.017999999999999794\n",
      "-0.017999999999999794\n",
      "convergence!-0.08999999999999897\n"
     ]
    }
   ],
   "source": [
    "total_diff = 0\n",
    "for i = 1:5\n",
    "    diff = arr[end] - arr[end-1]\n",
    "    println(diff)\n",
    "    total_diff += diff\n",
    "end\n",
    "\n",
    "if total_diff < 1\n",
    "    print(\"convergence!\")\n",
    "end\n",
    "println(total_diff)"
   ]
  }
 ],
 "metadata": {
  "kernelspec": {
   "display_name": "Julia 1.7.2",
   "language": "julia",
   "name": "julia-1.7"
  },
  "language_info": {
   "file_extension": ".jl",
   "mimetype": "application/julia",
   "name": "julia",
   "version": "1.7.2"
  },
  "orig_nbformat": 4
 },
 "nbformat": 4,
 "nbformat_minor": 2
}
