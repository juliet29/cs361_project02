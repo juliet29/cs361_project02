{
 "cells": [
  {
   "cell_type": "code",
   "execution_count": null,
   "metadata": {},
   "outputs": [],
   "source": []
  },
  {
   "cell_type": "markdown",
   "metadata": {},
   "source": [
    "# Test Function "
   ]
  },
  {
   "cell_type": "code",
   "execution_count": 2,
   "metadata": {},
   "outputs": [],
   "source": [
    "using SymPy;"
   ]
  },
  {
   "cell_type": "code",
   "execution_count": 1,
   "metadata": {},
   "outputs": [
    {
     "data": {
      "text/plain": [
       "secret0 (generic function with 4 methods)"
      ]
     },
     "metadata": {},
     "output_type": "display_data"
    }
   ],
   "source": [
    "function secret0(x::Vector, a=20, b=0.2, c=2π)\n",
    "    d = length(x)\n",
    "    return -a*exp(-b*sqrt(sum(x.^2)/d)) - exp(sum(cos.(c*xi) for xi in x)/d) + a + exp(1)\n",
    "end"
   ]
  },
  {
   "cell_type": "code",
   "execution_count": 3,
   "metadata": {},
   "outputs": [
    {
     "data": {
      "text/plain": [
       "(x, y, z)"
      ]
     },
     "metadata": {},
     "output_type": "display_data"
    }
   ],
   "source": [
    "x, y, z = symbols(\"x, y, z\")"
   ]
  },
  {
   "cell_type": "code",
   "execution_count": 4,
   "metadata": {},
   "outputs": [
    {
     "data": {
      "text/latex": [
       "$\\left[ \\begin{array}{r}x\\\\y\\\\z\\end{array} \\right]$\n"
      ],
      "text/plain": [
       "3-element Vector{Sym}:\n",
       " x\n",
       " y\n",
       " z"
      ]
     },
     "metadata": {},
     "output_type": "display_data"
    }
   ],
   "source": [
    "X = [x; y; z]"
   ]
  },
  {
   "cell_type": "code",
   "execution_count": 6,
   "metadata": {},
   "outputs": [
    {
     "data": {
      "text/latex": [
       "$- e^{\\frac{\\cos{\\left(6.28318530717959 x \\right)}}{3} + \\frac{\\cos{\\left(6.28318530717959 y \\right)}}{3} + \\frac{\\cos{\\left(6.28318530717959 z \\right)}}{3}} + 22.718281828459 - 20 e^{- 0.2 \\sqrt{\\frac{x^{2}}{3} + \\frac{y^{2}}{3} + \\frac{z^{2}}{3}}}$"
      ],
      "text/plain": [
       "                                                                              \n",
       "                                                                              \n",
       "   cos(6.28318530717959*x)   cos(6.28318530717959*y)   cos(6.28318530717959*z)\n",
       "   ----------------------- + ----------------------- + -----------------------\n",
       "              3                         3                         3           \n",
       "- e                                                                           \n",
       "\n",
       "                                   ______________\n",
       "                                  /  2    2    2 \n",
       "                                 /  x    y    z  \n",
       "                         -0.2*  /   -- + -- + -- \n",
       "                              \\/    3    3    3  \n",
       " + 22.718281828459 - 20*e                        "
      ]
     },
     "metadata": {},
     "output_type": "display_data"
    }
   ],
   "source": [
    "f = secret0(X)"
   ]
  },
  {
   "cell_type": "code",
   "execution_count": 8,
   "metadata": {},
   "outputs": [
    {
     "data": {
      "text/plain": [
       "3-element Vector{Float64}:\n",
       " 0.1\n",
       " 0.1\n",
       " 0.1"
      ]
     },
     "metadata": {},
     "output_type": "display_data"
    }
   ],
   "source": [
    "xx = [0.1;0.1;0.1]"
   ]
  },
  {
   "cell_type": "code",
   "execution_count": 9,
   "metadata": {},
   "outputs": [
    {
     "data": {
      "text/plain": [
       "0.8686089961219463"
      ]
     },
     "metadata": {},
     "output_type": "display_data"
    }
   ],
   "source": [
    "fo = secret0(xx)"
   ]
  },
  {
   "cell_type": "code",
   "execution_count": 7,
   "metadata": {},
   "outputs": [
    {
     "data": {
      "text/latex": [
       "$\\left[ \\begin{array}{r}\\frac{1.33333333333333 x e^{- 0.2 \\sqrt{\\frac{x^{2}}{3} + \\frac{y^{2}}{3} + \\frac{z^{2}}{3}}}}{\\sqrt{\\frac{x^{2}}{3} + \\frac{y^{2}}{3} + \\frac{z^{2}}{3}}} + 2.0943951023932 e^{\\frac{\\cos{\\left(6.28318530717959 x \\right)}}{3} + \\frac{\\cos{\\left(6.28318530717959 y \\right)}}{3} + \\frac{\\cos{\\left(6.28318530717959 z \\right)}}{3}} \\sin{\\left(6.28318530717959 x \\right)}\\\\\\frac{1.33333333333333 y e^{- 0.2 \\sqrt{\\frac{x^{2}}{3} + \\frac{y^{2}}{3} + \\frac{z^{2}}{3}}}}{\\sqrt{\\frac{x^{2}}{3} + \\frac{y^{2}}{3} + \\frac{z^{2}}{3}}} + 2.0943951023932 e^{\\frac{\\cos{\\left(6.28318530717959 x \\right)}}{3} + \\frac{\\cos{\\left(6.28318530717959 y \\right)}}{3} + \\frac{\\cos{\\left(6.28318530717959 z \\right)}}{3}} \\sin{\\left(6.28318530717959 y \\right)}\\\\\\frac{1.33333333333333 z e^{- 0.2 \\sqrt{\\frac{x^{2}}{3} + \\frac{y^{2}}{3} + \\frac{z^{2}}{3}}}}{\\sqrt{\\frac{x^{2}}{3} + \\frac{y^{2}}{3} + \\frac{z^{2}}{3}}} + 2.0943951023932 e^{\\frac{\\cos{\\left(6.28318530717959 x \\right)}}{3} + \\frac{\\cos{\\left(6.28318530717959 y \\right)}}{3} + \\frac{\\cos{\\left(6.28318530717959 z \\right)}}{3}} \\sin{\\left(6.28318530717959 z \\right)}\\end{array} \\right]$\n"
      ],
      "text/plain": [
       "3-element Vector{Sym}:\n",
       " 1.33333333333333*x*exp(-0.2*sqrt(x^2/3 + y^2/3 + z^2/3))/sqrt(x^2/3 + y^2/3 + z^2/3) + 2.0943951023932*exp(cos(6.28318530717959*x)/3 + cos(6.28318530717959*y)/3 + cos(6.28318530717959*z)/3)*sin(6.28318530717959*x)\n",
       " 1.33333333333333*y*exp(-0.2*sqrt(x^2/3 + y^2/3 + z^2/3))/sqrt(x^2/3 + y^2/3 + z^2/3) + 2.0943951023932*exp(cos(6.28318530717959*x)/3 + cos(6.28318530717959*y)/3 + cos(6.28318530717959*z)/3)*sin(6.28318530717959*y)\n",
       " 1.33333333333333*z*exp(-0.2*sqrt(x^2/3 + y^2/3 + z^2/3))/sqrt(x^2/3 + y^2/3 + z^2/3) + 2.0943951023932*exp(cos(6.28318530717959*x)/3 + cos(6.28318530717959*y)/3 + cos(6.28318530717959*z)/3)*sin(6.28318530717959*z)"
      ]
     },
     "metadata": {},
     "output_type": "display_data"
    }
   ],
   "source": [
    "g = Sym[diff(f,var) for var in X] "
   ]
  },
  {
   "cell_type": "code",
   "execution_count": 15,
   "metadata": {},
   "outputs": [
    {
     "data": {
      "text/latex": [
       "$\\left[ \\begin{array}{r}\\frac{0.769800358919501 \\sqrt{3}}{e^{0.0115470053837925 \\sqrt{3}}} + 2.76457843091502\\\\\\frac{0.769800358919501 \\sqrt{3}}{e^{0.0115470053837925 \\sqrt{3}}} + 2.76457843091502\\\\\\frac{0.769800358919501 \\sqrt{3}}{e^{0.0115470053837925 \\sqrt{3}}} + 2.76457843091502\\end{array} \\right]$\n"
      ],
      "text/plain": [
       "3-element Vector{Sym}:\n",
       " 0.769800358919501*sqrt(3)*exp(-0.0115470053837925*sqrt(3)) + 2.76457843091502\n",
       " 0.769800358919501*sqrt(3)*exp(-0.0115470053837925*sqrt(3)) + 2.76457843091502\n",
       " 0.769800358919501*sqrt(3)*exp(-0.0115470053837925*sqrt(3)) + 2.76457843091502"
      ]
     },
     "metadata": {},
     "output_type": "display_data"
    }
   ],
   "source": [
    "ee = [e(X[1] => xx[1], X[2] => xx[2], X[3] => xx[3]) for e in g]"
   ]
  },
  {
   "cell_type": "code",
   "execution_count": 21,
   "metadata": {},
   "outputs": [
    {
     "data": {
      "text/plain": [
       "22"
      ]
     },
     "metadata": {},
     "output_type": "display_data"
    }
   ],
   "source": [
    "Int(round(ee[1] *5 + 2))"
   ]
  },
  {
   "cell_type": "markdown",
   "metadata": {},
   "source": [
    "# Constraints"
   ]
  },
  {
   "cell_type": "code",
   "execution_count": 1,
   "metadata": {},
   "outputs": [
    {
     "data": {
      "text/plain": [
       "simple3_init (generic function with 1 method)"
      ]
     },
     "metadata": {},
     "output_type": "display_data"
    }
   ],
   "source": [
    "include(\"helpers.jl\")\n",
    "include(\"simple.jl\")"
   ]
  },
  {
   "cell_type": "code",
   "execution_count": 2,
   "metadata": {},
   "outputs": [],
   "source": [
    "using Plots"
   ]
  },
  {
   "cell_type": "code",
   "execution_count": 3,
   "metadata": {},
   "outputs": [
    {
     "data": {
      "text/plain": [
       "simple1_constraints (generic function with 1 method)"
      ]
     },
     "metadata": {},
     "output_type": "display_data"
    }
   ],
   "source": [
    "function simple1_constraints(x::Vector)\n",
    "    return [x[1] + x[2]^2 - 1,\n",
    "            -x[1] - x[2]]\n",
    "end"
   ]
  },
  {
   "cell_type": "code",
   "execution_count": 27,
   "metadata": {},
   "outputs": [
    {
     "data": {
      "text/latex": [
       "$\\left[ \\begin{array}{r}x\\\\y\\end{array} \\right]$\n"
      ],
      "text/plain": [
       "2-element Vector{Sym}:\n",
       " x\n",
       " y"
      ]
     },
     "metadata": {},
     "output_type": "display_data"
    }
   ],
   "source": [
    "x, y = symbols(\"x, y\")\n",
    "X = [x, y]"
   ]
  },
  {
   "cell_type": "code",
   "execution_count": 33,
   "metadata": {},
   "outputs": [
    {
     "data": {
      "text/latex": [
       "$\\left[ \\begin{array}{r}x + y^{2} - 1\\\\- x - y\\end{array} \\right]$\n"
      ],
      "text/plain": [
       "2-element Vector{Sym}:\n",
       " x + y^2 - 1\n",
       "      -x - y"
      ]
     },
     "metadata": {},
     "output_type": "display_data"
    }
   ],
   "source": [
    "h = simple1_constraints(X)"
   ]
  },
  {
   "cell_type": "code",
   "execution_count": 46,
   "metadata": {},
   "outputs": [
    {
     "data": {
      "text/latex": [
       "$\\left[ \\begin{array}{r}- \\sqrt{1 - x}\\\\\\sqrt{1 - x}\\end{array} \\right]$\n"
      ],
      "text/plain": [
       "2-element Vector{Sym}:\n",
       " -sqrt(1 - x)\n",
       "  sqrt(1 - x)"
      ]
     },
     "metadata": {},
     "output_type": "display_data"
    }
   ],
   "source": [
    "j1 = solve((h[1]), (y))"
   ]
  },
  {
   "cell_type": "code",
   "execution_count": 60,
   "metadata": {},
   "outputs": [],
   "source": [
    "xr = Vector(-3:0.1:3)\n",
    "jr1 = [ real(j1[1](x => i)) for i in xr];\n",
    "jr2 = [ real(j1[2](x => i)) for i in xr];"
   ]
  },
  {
   "cell_type": "code",
   "execution_count": 61,
   "metadata": {},
   "outputs": [
    {
     "data": {
      "image/png": "[encoded data removed]",
      "image/svg+xml": "<?xml version=\"1.0\" encoding=\"utf-8\"?>\n<svg xmlns=\"http://www.w3.org/2000/svg\" xmlns:xlink=\"http://www.w3.org/1999/xlink\" width=\"600\" height=\"400\" viewBox=\"0 0 2400 1600\">\n<defs>\n  <clipPath id=\"clip030\">\n    <rect x=\"0\" y=\"0\" width=\"2400\" height=\"1600\"/>\n  </clipPath>\n</defs>\n<path clip-path=\"url(#clip030)\" d=\"\nM0 1600 L2400 1600 L2400 0 L0 0  Z\n  \" fill=\"#ffffff\" fill-rule=\"evenodd\" fill-opacity=\"1\"/>\n<defs>\n  <clipPath id=\"clip031\">\n    <rect x=\"480\" y=\"0\" width=\"1681\" height=\"1600\"/>\n  </clipPath>\n</defs>\n<path clip-path=\"url(#clip030)\" d=\"\nM147.478 1486.45 L2352.76 1486.45 L2352.76 47.2441 L147.478 47.2441  Z\n  \" fill=\"#ffffff\" fill-rule=\"evenodd\" fill-opacity=\"1\"/>\n<defs>\n  <clipPath id=\"clip032\">\n    <rect x=\"147\" y=\"47\" width=\"2206\" height=\"1440\"/>\n  </clipPath>\n</defs>\n<polyline clip-path=\"url(#clip032)\" style=\"stroke:#000000; stroke-linecap:butt; stroke-linejoin:round; stroke-width:2; stroke-opacity:0.1; fill:none\" points=\"\n  209.891,1486.45 209.891,47.2441 \n  \"/>\n<polyline clip-path=\"url(#clip032)\" style=\"stroke:#000000; stroke-linecap:butt; stroke-linejoin:round; stroke-width:2; stroke-opacity:0.1; fill:none\" points=\"\n  556.633,1486.45 556.633,47.2441 \n  \"/>\n<polyline clip-path=\"url(#clip032)\" style=\"stroke:#000000; stroke-linecap:butt; stroke-linejoin:round; stroke-width:2; stroke-opacity:0.1; fill:none\" points=\"\n  903.375,1486.45 903.375,47.2441 \n  \"/>\n<polyline clip-path=\"url(#clip032)\" style=\"stroke:#000000; stroke-linecap:butt; stroke-linejoin:round; stroke-width:2; stroke-opacity:0.1; fill:none\" points=\"\n  1250.12,1486.45 1250.12,47.2441 \n  \"/>\n<polyline clip-path=\"url(#clip032)\" style=\"stroke:#000000; stroke-linecap:butt; stroke-linejoin:round; stroke-width:2; stroke-opacity:0.1; fill:none\" points=\"\n  1596.86,1486.45 1596.86,47.2441 \n  \"/>\n<polyline clip-path=\"url(#clip032)\" style=\"stroke:#000000; stroke-linecap:butt; stroke-linejoin:round; stroke-width:2; stroke-opacity:0.1; fill:none\" points=\"\n  1943.6,1486.45 1943.6,47.2441 \n  \"/>\n<polyline clip-path=\"url(#clip032)\" style=\"stroke:#000000; stroke-linecap:butt; stroke-linejoin:round; stroke-width:2; stroke-opacity:0.1; fill:none\" points=\"\n  2290.34,1486.45 2290.34,47.2441 \n  \"/>\n<polyline clip-path=\"url(#clip030)\" style=\"stroke:#000000; stroke-linecap:butt; stroke-linejoin:round; stroke-width:4; stroke-opacity:1; fill:none\" points=\"\n  147.478,1486.45 2352.76,1486.45 \n  \"/>\n<polyline clip-path=\"url(#clip030)\" style=\"stroke:#000000; stroke-linecap:butt; stroke-linejoin:round; stroke-width:4; stroke-opacity:1; fill:none\" points=\"\n  209.891,1486.45 209.891,1467.55 \n  \"/>\n<polyline clip-path=\"url(#clip030)\" style=\"stroke:#000000; stroke-linecap:butt; stroke-linejoin:round; stroke-width:4; stroke-opacity:1; fill:none\" points=\"\n  556.633,1486.45 556.633,1467.55 \n  \"/>\n<polyline clip-path=\"url(#clip030)\" style=\"stroke:#000000; stroke-linecap:butt; stroke-linejoin:round; stroke-width:4; stroke-opacity:1; fill:none\" points=\"\n  903.375,1486.45 903.375,1467.55 \n  \"/>\n<polyline clip-path=\"url(#clip030)\" style=\"stroke:#000000; stroke-linecap:butt; stroke-linejoin:round; stroke-width:4; stroke-opacity:1; fill:none\" points=\"\n  1250.12,1486.45 1250.12,1467.55 \n  \"/>\n<polyline clip-path=\"url(#clip030)\" style=\"stroke:#000000; stroke-linecap:butt; stroke-linejoin:round; stroke-width:4; stroke-opacity:1; fill:none\" points=\"\n  1596.86,1486.45 1596.86,1467.55 \n  \"/>\n<polyline clip-path=\"url(#clip030)\" style=\"stroke:#000000; stroke-linecap:butt; stroke-linejoin:round; stroke-width:4; stroke-opacity:1; fill:none\" points=\"\n  1943.6,1486.45 1943.6,1467.55 \n  \"/>\n<polyline clip-path=\"url(#clip030)\" style=\"stroke:#000000; stroke-linecap:butt; stroke-linejoin:round; stroke-width:4; stroke-opacity:1; fill:none\" points=\"\n  2290.34,1486.45 2290.34,1467.55 \n  \"/>\n<path clip-path=\"url(#clip030)\" d=\"M179.359 1532.02 L209.035 1532.02 L209.035 1535.95 L179.359 1535.95 L179.359 1532.02 Z\" fill=\"#000000\" fill-rule=\"evenodd\" fill-opacity=\"1\" /><path clip-path=\"url(#clip030)\" d=\"M233.294 1530.21 Q236.651 1530.93 238.526 1533.2 Q240.424 1535.47 240.424 1538.8 Q240.424 1543.92 236.905 1546.72 Q233.387 1549.52 226.905 1549.52 Q224.729 1549.52 222.415 1549.08 Q220.123 1548.66 217.669 1547.81 L217.669 1543.29 Q219.614 1544.43 221.928 1545.01 Q224.243 1545.58 226.766 1545.58 Q231.164 1545.58 233.456 1543.85 Q235.771 1542.11 235.771 1538.8 Q235.771 1535.75 233.618 1534.03 Q231.489 1532.3 227.669 1532.3 L223.641 1532.3 L223.641 1528.45 L227.854 1528.45 Q231.303 1528.45 233.132 1527.09 Q234.961 1525.7 234.961 1523.11 Q234.961 1520.45 233.063 1519.03 Q231.188 1517.6 227.669 1517.6 Q225.748 1517.6 223.549 1518.01 Q221.35 1518.43 218.711 1519.31 L218.711 1515.14 Q221.373 1514.4 223.688 1514.03 Q226.026 1513.66 228.086 1513.66 Q233.41 1513.66 236.512 1516.09 Q239.614 1518.5 239.614 1522.62 Q239.614 1525.49 237.97 1527.48 Q236.326 1529.45 233.294 1530.21 Z\" fill=\"#000000\" fill-rule=\"evenodd\" fill-opacity=\"1\" /><path clip-path=\"url(#clip030)\" d=\"M526.576 1532.02 L556.251 1532.02 L556.251 1535.95 L526.576 1535.95 L526.576 1532.02 Z\" fill=\"#000000\" fill-rule=\"evenodd\" fill-opacity=\"1\" /><path clip-path=\"url(#clip030)\" d=\"M570.372 1544.91 L586.691 1544.91 L586.691 1548.85 L564.747 1548.85 L564.747 1544.91 Q567.409 1542.16 571.992 1537.53 Q576.598 1532.88 577.779 1531.53 Q580.024 1529.01 580.904 1527.27 Q581.807 1525.51 581.807 1523.82 Q581.807 1521.07 579.862 1519.33 Q577.941 1517.6 574.839 1517.6 Q572.64 1517.6 570.186 1518.36 Q567.756 1519.13 564.978 1520.68 L564.978 1515.95 Q567.802 1514.82 570.256 1514.24 Q572.71 1513.66 574.747 1513.66 Q580.117 1513.66 583.311 1516.35 Q586.506 1519.03 586.506 1523.52 Q586.506 1525.65 585.696 1527.57 Q584.909 1529.47 582.802 1532.07 Q582.223 1532.74 579.122 1535.95 Q576.02 1539.15 570.372 1544.91 Z\" fill=\"#000000\" fill-rule=\"evenodd\" fill-opacity=\"1\" /><path clip-path=\"url(#clip030)\" d=\"M873.132 1532.02 L902.808 1532.02 L902.808 1535.95 L873.132 1535.95 L873.132 1532.02 Z\" fill=\"#000000\" fill-rule=\"evenodd\" fill-opacity=\"1\" /><path clip-path=\"url(#clip030)\" d=\"M913.711 1544.91 L921.35 1544.91 L921.35 1518.55 L913.039 1520.21 L913.039 1515.95 L921.303 1514.29 L925.979 1514.29 L925.979 1544.91 L933.618 1544.91 L933.618 1548.85 L913.711 1548.85 L913.711 1544.91 Z\" fill=\"#000000\" fill-rule=\"evenodd\" fill-opacity=\"1\" /><path clip-path=\"url(#clip030)\" d=\"M1250.12 1517.37 Q1246.51 1517.37 1244.68 1520.93 Q1242.87 1524.47 1242.87 1531.6 Q1242.87 1538.71 1244.68 1542.27 Q1246.51 1545.82 1250.12 1545.82 Q1253.75 1545.82 1255.56 1542.27 Q1257.39 1538.71 1257.39 1531.6 Q1257.39 1524.47 1255.56 1520.93 Q1253.75 1517.37 1250.12 1517.37 M1250.12 1513.66 Q1255.93 1513.66 1258.98 1518.27 Q1262.06 1522.85 1262.06 1531.6 Q1262.06 1540.33 1258.98 1544.94 Q1255.93 1549.52 1250.12 1549.52 Q1244.31 1549.52 1241.23 1544.94 Q1238.17 1540.33 1238.17 1531.6 Q1238.17 1522.85 1241.23 1518.27 Q1244.31 1513.66 1250.12 1513.66 Z\" fill=\"#000000\" fill-rule=\"evenodd\" fill-opacity=\"1\" /><path clip-path=\"url(#clip030)\" d=\"M1587.24 1544.91 L1594.88 1544.91 L1594.88 1518.55 L1586.57 1520.21 L1586.57 1515.95 L1594.83 1514.29 L1599.51 1514.29 L1599.51 1544.91 L1607.15 1544.91 L1607.15 1548.85 L1587.24 1548.85 L1587.24 1544.91 Z\" fill=\"#000000\" fill-rule=\"evenodd\" fill-opacity=\"1\" /><path clip-path=\"url(#clip030)\" d=\"M1938.25 1544.91 L1954.57 1544.91 L1954.57 1548.85 L1932.63 1548.85 L1932.63 1544.91 Q1935.29 1542.16 1939.87 1537.53 Q1944.48 1532.88 1945.66 1531.53 Q1947.91 1529.01 1948.79 1527.27 Q1949.69 1525.51 1949.69 1523.82 Q1949.69 1521.07 1947.74 1519.33 Q1945.82 1517.6 1942.72 1517.6 Q1940.52 1517.6 1938.07 1518.36 Q1935.64 1519.13 1932.86 1520.68 L1932.86 1515.95 Q1935.68 1514.82 1938.14 1514.24 Q1940.59 1513.66 1942.63 1513.66 Q1948 1513.66 1951.19 1516.35 Q1954.39 1519.03 1954.39 1523.52 Q1954.39 1525.65 1953.58 1527.57 Q1952.79 1529.47 1950.68 1532.07 Q1950.11 1532.74 1947 1535.95 Q1943.9 1539.15 1938.25 1544.91 Z\" fill=\"#000000\" fill-rule=\"evenodd\" fill-opacity=\"1\" /><path clip-path=\"url(#clip030)\" d=\"M2294.59 1530.21 Q2297.95 1530.93 2299.82 1533.2 Q2301.72 1535.47 2301.72 1538.8 Q2301.72 1543.92 2298.2 1546.72 Q2294.68 1549.52 2288.2 1549.52 Q2286.03 1549.52 2283.71 1549.08 Q2281.42 1548.66 2278.97 1547.81 L2278.97 1543.29 Q2280.91 1544.43 2283.22 1545.01 Q2285.54 1545.58 2288.06 1545.58 Q2292.46 1545.58 2294.75 1543.85 Q2297.07 1542.11 2297.07 1538.8 Q2297.07 1535.75 2294.91 1534.03 Q2292.78 1532.3 2288.97 1532.3 L2284.94 1532.3 L2284.94 1528.45 L2289.15 1528.45 Q2292.6 1528.45 2294.43 1527.09 Q2296.26 1525.7 2296.26 1523.11 Q2296.26 1520.45 2294.36 1519.03 Q2292.48 1517.6 2288.97 1517.6 Q2287.04 1517.6 2284.84 1518.01 Q2282.65 1518.43 2280.01 1519.31 L2280.01 1515.14 Q2282.67 1514.4 2284.98 1514.03 Q2287.32 1513.66 2289.38 1513.66 Q2294.71 1513.66 2297.81 1516.09 Q2300.91 1518.5 2300.91 1522.62 Q2300.91 1525.49 2299.27 1527.48 Q2297.62 1529.45 2294.59 1530.21 Z\" fill=\"#000000\" fill-rule=\"evenodd\" fill-opacity=\"1\" /><polyline clip-path=\"url(#clip032)\" style=\"stroke:#000000; stroke-linecap:butt; stroke-linejoin:round; stroke-width:2; stroke-opacity:0.1; fill:none\" points=\"\n  147.478,1445.72 2352.76,1445.72 \n  \"/>\n<polyline clip-path=\"url(#clip032)\" style=\"stroke:#000000; stroke-linecap:butt; stroke-linejoin:round; stroke-width:2; stroke-opacity:0.1; fill:none\" points=\"\n  147.478,1106.28 2352.76,1106.28 \n  \"/>\n<polyline clip-path=\"url(#clip032)\" style=\"stroke:#000000; stroke-linecap:butt; stroke-linejoin:round; stroke-width:2; stroke-opacity:0.1; fill:none\" points=\"\n  147.478,766.846 2352.76,766.846 \n  \"/>\n<polyline clip-path=\"url(#clip032)\" style=\"stroke:#000000; stroke-linecap:butt; stroke-linejoin:round; stroke-width:2; stroke-opacity:0.1; fill:none\" points=\"\n  147.478,427.411 2352.76,427.411 \n  \"/>\n<polyline clip-path=\"url(#clip032)\" style=\"stroke:#000000; stroke-linecap:butt; stroke-linejoin:round; stroke-width:2; stroke-opacity:0.1; fill:none\" points=\"\n  147.478,87.9763 2352.76,87.9763 \n  \"/>\n<polyline clip-path=\"url(#clip030)\" style=\"stroke:#000000; stroke-linecap:butt; stroke-linejoin:round; stroke-width:4; stroke-opacity:1; fill:none\" points=\"\n  147.478,1486.45 147.478,47.2441 \n  \"/>\n<polyline clip-path=\"url(#clip030)\" style=\"stroke:#000000; stroke-linecap:butt; stroke-linejoin:round; stroke-width:4; stroke-opacity:1; fill:none\" points=\"\n  147.478,1445.72 166.376,1445.72 \n  \"/>\n<polyline clip-path=\"url(#clip030)\" style=\"stroke:#000000; stroke-linecap:butt; stroke-linejoin:round; stroke-width:4; stroke-opacity:1; fill:none\" points=\"\n  147.478,1106.28 166.376,1106.28 \n  \"/>\n<polyline clip-path=\"url(#clip030)\" style=\"stroke:#000000; stroke-linecap:butt; stroke-linejoin:round; stroke-width:4; stroke-opacity:1; fill:none\" points=\"\n  147.478,766.846 166.376,766.846 \n  \"/>\n<polyline clip-path=\"url(#clip030)\" style=\"stroke:#000000; stroke-linecap:butt; stroke-linejoin:round; stroke-width:4; stroke-opacity:1; fill:none\" points=\"\n  147.478,427.411 166.376,427.411 \n  \"/>\n<polyline clip-path=\"url(#clip030)\" style=\"stroke:#000000; stroke-linecap:butt; stroke-linejoin:round; stroke-width:4; stroke-opacity:1; fill:none\" points=\"\n  147.478,87.9763 166.376,87.9763 \n  \"/>\n<path clip-path=\"url(#clip030)\" d=\"M51.3625 1446.17 L81.0383 1446.17 L81.0383 1450.1 L51.3625 1450.1 L51.3625 1446.17 Z\" fill=\"#000000\" fill-rule=\"evenodd\" fill-opacity=\"1\" /><path clip-path=\"url(#clip030)\" d=\"M95.1586 1459.06 L111.478 1459.06 L111.478 1463 L89.5336 1463 L89.5336 1459.06 Q92.1956 1456.31 96.7789 1451.68 Q101.385 1447.02 102.566 1445.68 Q104.811 1443.16 105.691 1441.42 Q106.594 1439.66 106.594 1437.97 Q106.594 1435.22 104.649 1433.48 Q102.728 1431.75 99.6261 1431.75 Q97.4271 1431.75 94.9734 1432.51 Q92.5428 1433.27 89.7651 1434.82 L89.7651 1430.1 Q92.5891 1428.97 95.0428 1428.39 Q97.4965 1427.81 99.5335 1427.81 Q104.904 1427.81 108.098 1430.5 Q111.293 1433.18 111.293 1437.67 Q111.293 1439.8 110.483 1441.72 Q109.696 1443.62 107.589 1446.21 Q107.01 1446.88 103.909 1450.1 Q100.807 1453.3 95.1586 1459.06 Z\" fill=\"#000000\" fill-rule=\"evenodd\" fill-opacity=\"1\" /><path clip-path=\"url(#clip030)\" d=\"M50.9921 1106.73 L80.6679 1106.73 L80.6679 1110.67 L50.9921 1110.67 L50.9921 1106.73 Z\" fill=\"#000000\" fill-rule=\"evenodd\" fill-opacity=\"1\" /><path clip-path=\"url(#clip030)\" d=\"M91.5706 1119.63 L99.2095 1119.63 L99.2095 1093.26 L90.8993 1094.93 L90.8993 1090.67 L99.1632 1089 L103.839 1089 L103.839 1119.63 L111.478 1119.63 L111.478 1123.56 L91.5706 1123.56 L91.5706 1119.63 Z\" fill=\"#000000\" fill-rule=\"evenodd\" fill-opacity=\"1\" /><path clip-path=\"url(#clip030)\" d=\"M99.5335 752.645 Q95.9224 752.645 94.0937 756.209 Q92.2882 759.751 92.2882 766.881 Q92.2882 773.987 94.0937 777.552 Q95.9224 781.094 99.5335 781.094 Q103.168 781.094 104.973 777.552 Q106.802 773.987 106.802 766.881 Q106.802 759.751 104.973 756.209 Q103.168 752.645 99.5335 752.645 M99.5335 748.941 Q105.344 748.941 108.399 753.547 Q111.478 758.131 111.478 766.881 Q111.478 775.608 108.399 780.214 Q105.344 784.797 99.5335 784.797 Q93.7234 784.797 90.6447 780.214 Q87.5892 775.608 87.5892 766.881 Q87.5892 758.131 90.6447 753.547 Q93.7234 748.941 99.5335 748.941 Z\" fill=\"#000000\" fill-rule=\"evenodd\" fill-opacity=\"1\" /><path clip-path=\"url(#clip030)\" d=\"M91.5706 440.756 L99.2095 440.756 L99.2095 414.39 L90.8993 416.057 L90.8993 411.798 L99.1632 410.131 L103.839 410.131 L103.839 440.756 L111.478 440.756 L111.478 444.691 L91.5706 444.691 L91.5706 440.756 Z\" fill=\"#000000\" fill-rule=\"evenodd\" fill-opacity=\"1\" /><path clip-path=\"url(#clip030)\" d=\"M95.1586 101.321 L111.478 101.321 L111.478 105.256 L89.5336 105.256 L89.5336 101.321 Q92.1956 98.5665 96.7789 93.9369 Q101.385 89.2841 102.566 87.9416 Q104.811 85.4184 105.691 83.6823 Q106.594 81.9231 106.594 80.2333 Q106.594 77.4786 104.649 75.7425 Q102.728 74.0064 99.6261 74.0064 Q97.4271 74.0064 94.9734 74.7703 Q92.5428 75.5342 89.7651 77.0851 L89.7651 72.3629 Q92.5891 71.2287 95.0428 70.65 Q97.4965 70.0713 99.5335 70.0713 Q104.904 70.0713 108.098 72.7565 Q111.293 75.4416 111.293 79.9323 Q111.293 82.062 110.483 83.9832 Q109.696 85.8814 107.589 88.474 Q107.01 89.1453 103.909 92.3628 Q100.807 95.5573 95.1586 101.321 Z\" fill=\"#000000\" fill-rule=\"evenodd\" fill-opacity=\"1\" /><polyline clip-path=\"url(#clip032)\" style=\"stroke:#009af9; stroke-linecap:butt; stroke-linejoin:round; stroke-width:4; stroke-opacity:1; fill:none\" points=\"\n  209.891,1445.72 244.566,1437.18 279.24,1428.53 313.914,1419.76 348.588,1410.88 383.262,1401.87 417.937,1392.73 452.611,1383.46 487.285,1374.05 521.959,1364.48 \n  556.633,1354.76 591.307,1344.88 625.982,1334.83 660.656,1324.59 695.33,1314.17 730.004,1303.54 764.678,1292.7 799.353,1281.62 834.027,1270.31 868.701,1258.73 \n  903.375,1246.88 938.049,1234.72 972.723,1222.25 1007.4,1209.41 1042.07,1196.2 1076.75,1182.57 1111.42,1168.47 1146.09,1153.86 1180.77,1138.68 1215.44,1122.85 \n  1250.12,1106.28 1284.79,1088.86 1319.47,1070.45 1354.14,1050.84 1388.81,1029.77 1423.49,1006.86 1458.16,981.523 1492.84,952.762 1527.51,918.646 1562.18,874.185 \n  1596.86,766.846 1631.53,766.846 1666.21,766.846 1700.88,766.846 1735.56,766.846 1770.23,766.846 1804.9,766.846 1839.58,766.846 1874.25,766.846 1908.93,766.846 \n  1943.6,766.846 1978.27,766.846 2012.95,766.846 2047.62,766.846 2082.3,766.846 2116.97,766.846 2151.65,766.846 2186.32,766.846 2220.99,766.846 2255.67,766.846 \n  2290.34,766.846 \n  \"/>\n<polyline clip-path=\"url(#clip032)\" style=\"stroke:#e26f46; stroke-linecap:butt; stroke-linejoin:round; stroke-width:4; stroke-opacity:1; fill:none\" points=\"\n  209.891,87.9763 244.566,96.5159 279.24,105.166 313.914,113.93 348.588,122.814 383.262,131.822 417.937,140.959 452.611,150.232 487.285,159.646 521.959,169.209 \n  556.633,178.928 591.307,188.809 625.982,198.863 660.656,209.098 695.33,219.524 730.004,230.152 764.678,240.996 799.353,252.068 834.027,263.383 868.701,274.958 \n  903.375,286.813 938.049,298.967 972.723,311.446 1007.4,324.277 1042.07,337.491 1076.75,351.125 1111.42,365.221 1146.09,379.831 1180.77,395.014 1215.44,410.844 \n  1250.12,427.411 1284.79,444.83 1319.47,463.246 1354.14,482.854 1388.81,503.921 1423.49,526.829 1458.16,552.169 1492.84,580.93 1527.51,615.046 1562.18,659.507 \n  1596.86,766.846 1631.53,766.846 1666.21,766.846 1700.88,766.846 1735.56,766.846 1770.23,766.846 1804.9,766.846 1839.58,766.846 1874.25,766.846 1908.93,766.846 \n  1943.6,766.846 1978.27,766.846 2012.95,766.846 2047.62,766.846 2082.3,766.846 2116.97,766.846 2151.65,766.846 2186.32,766.846 2220.99,766.846 2255.67,766.846 \n  2290.34,766.846 \n  \"/>\n<path clip-path=\"url(#clip030)\" d=\"\nM1986.82 250.738 L2279.25 250.738 L2279.25 95.2176 L1986.82 95.2176  Z\n  \" fill=\"#ffffff\" fill-rule=\"evenodd\" fill-opacity=\"1\"/>\n<polyline clip-path=\"url(#clip030)\" style=\"stroke:#000000; stroke-linecap:butt; stroke-linejoin:round; stroke-width:4; stroke-opacity:1; fill:none\" points=\"\n  1986.82,250.738 2279.25,250.738 2279.25,95.2176 1986.82,95.2176 1986.82,250.738 \n  \"/>\n<polyline clip-path=\"url(#clip030)\" style=\"stroke:#009af9; stroke-linecap:butt; stroke-linejoin:round; stroke-width:4; stroke-opacity:1; fill:none\" points=\"\n  2010.82,147.058 2154.82,147.058 \n  \"/>\n<path clip-path=\"url(#clip030)\" d=\"M2192.66 166.745 Q2190.85 171.375 2189.14 172.787 Q2187.43 174.199 2184.56 174.199 L2181.15 174.199 L2181.15 170.634 L2183.65 170.634 Q2185.41 170.634 2186.39 169.8 Q2187.36 168.967 2188.54 165.865 L2189.3 163.921 L2178.82 138.412 L2183.33 138.412 L2191.43 158.689 L2199.53 138.412 L2204.05 138.412 L2192.66 166.745 Z\" fill=\"#000000\" fill-rule=\"evenodd\" fill-opacity=\"1\" /><path clip-path=\"url(#clip030)\" d=\"M2211.34 160.402 L2218.98 160.402 L2218.98 134.037 L2210.67 135.703 L2210.67 131.444 L2218.93 129.778 L2223.61 129.778 L2223.61 160.402 L2231.25 160.402 L2231.25 164.338 L2211.34 164.338 L2211.34 160.402 Z\" fill=\"#000000\" fill-rule=\"evenodd\" fill-opacity=\"1\" /><polyline clip-path=\"url(#clip030)\" style=\"stroke:#e26f46; stroke-linecap:butt; stroke-linejoin:round; stroke-width:4; stroke-opacity:1; fill:none\" points=\"\n  2010.82,198.898 2154.82,198.898 \n  \"/>\n<path clip-path=\"url(#clip030)\" d=\"M2192.66 218.585 Q2190.85 223.215 2189.14 224.627 Q2187.43 226.039 2184.56 226.039 L2181.15 226.039 L2181.15 222.474 L2183.65 222.474 Q2185.41 222.474 2186.39 221.64 Q2187.36 220.807 2188.54 217.705 L2189.3 215.761 L2178.82 190.252 L2183.33 190.252 L2191.43 210.529 L2199.53 190.252 L2204.05 190.252 L2192.66 218.585 Z\" fill=\"#000000\" fill-rule=\"evenodd\" fill-opacity=\"1\" /><path clip-path=\"url(#clip030)\" d=\"M2214.56 212.242 L2230.88 212.242 L2230.88 216.178 L2208.93 216.178 L2208.93 212.242 Q2211.59 209.488 2216.18 204.858 Q2220.78 200.205 2221.96 198.863 Q2224.21 196.34 2225.09 194.604 Q2225.99 192.844 2225.99 191.155 Q2225.99 188.4 2224.05 186.664 Q2222.13 184.928 2219.02 184.928 Q2216.83 184.928 2214.37 185.692 Q2211.94 186.455 2209.16 188.006 L2209.16 183.284 Q2211.99 182.15 2214.44 181.571 Q2216.89 180.993 2218.93 180.993 Q2224.3 180.993 2227.5 183.678 Q2230.69 186.363 2230.69 190.854 Q2230.69 192.983 2229.88 194.905 Q2229.09 196.803 2226.99 199.395 Q2226.41 200.067 2223.31 203.284 Q2220.21 206.479 2214.56 212.242 Z\" fill=\"#000000\" fill-rule=\"evenodd\" fill-opacity=\"1\" /></svg>\n",
      "text/html": [
       "<?xml version=\"1.0\" encoding=\"utf-8\"?>\n",
       "<svg xmlns=\"http://www.w3.org/2000/svg\" xmlns:xlink=\"http://www.w3.org/1999/xlink\" width=\"600\" height=\"400\" viewBox=\"0 0 2400 1600\">\n",
       "<defs>\n",
       "  <clipPath id=\"clip080\">\n",
       "    <rect x=\"0\" y=\"0\" width=\"2400\" height=\"1600\"/>\n",
       "  </clipPath>\n",
       "</defs>\n",
       "<path clip-path=\"url(#clip080)\" d=\"\n",
       "M0 1600 L2400 1600 L2400 0 L0 0  Z\n",
       "  \" fill=\"#ffffff\" fill-rule=\"evenodd\" fill-opacity=\"1\"/>\n",
       "<defs>\n",
       "  <clipPath id=\"clip081\">\n",
       "    <rect x=\"480\" y=\"0\" width=\"1681\" height=\"1600\"/>\n",
       "  </clipPath>\n",
       "</defs>\n",
       "<path clip-path=\"url(#clip080)\" d=\"\n",
       "M147.478 1486.45 L2352.76 1486.45 L2352.76 47.2441 L147.478 47.2441  Z\n",
       "  \" fill=\"#ffffff\" fill-rule=\"evenodd\" fill-opacity=\"1\"/>\n",
       "<defs>\n",
       "  <clipPath id=\"clip082\">\n",
       "    <rect x=\"147\" y=\"47\" width=\"2206\" height=\"1440\"/>\n",
       "  </clipPath>\n",
       "</defs>\n",
       "<polyline clip-path=\"url(#clip082)\" style=\"stroke:#000000; stroke-linecap:butt; stroke-linejoin:round; stroke-width:2; stroke-opacity:0.1; fill:none\" points=\"\n",
       "  209.891,1486.45 209.891,47.2441 \n",
       "  \"/>\n",
       "<polyline clip-path=\"url(#clip082)\" style=\"stroke:#000000; stroke-linecap:butt; stroke-linejoin:round; stroke-width:2; stroke-opacity:0.1; fill:none\" points=\"\n",
       "  556.633,1486.45 556.633,47.2441 \n",
       "  \"/>\n",
       "<polyline clip-path=\"url(#clip082)\" style=\"stroke:#000000; stroke-linecap:butt; stroke-linejoin:round; stroke-width:2; stroke-opacity:0.1; fill:none\" points=\"\n",
       "  903.375,1486.45 903.375,47.2441 \n",
       "  \"/>\n",
       "<polyline clip-path=\"url(#clip082)\" style=\"stroke:#000000; stroke-linecap:butt; stroke-linejoin:round; stroke-width:2; stroke-opacity:0.1; fill:none\" points=\"\n",
       "  1250.12,1486.45 1250.12,47.2441 \n",
       "  \"/>\n",
       "<polyline clip-path=\"url(#clip082)\" style=\"stroke:#000000; stroke-linecap:butt; stroke-linejoin:round; stroke-width:2; stroke-opacity:0.1; fill:none\" points=\"\n",
       "  1596.86,1486.45 1596.86,47.2441 \n",
       "  \"/>\n",
       "<polyline clip-path=\"url(#clip082)\" style=\"stroke:#000000; stroke-linecap:butt; stroke-linejoin:round; stroke-width:2; stroke-opacity:0.1; fill:none\" points=\"\n",
       "  1943.6,1486.45 1943.6,47.2441 \n",
       "  \"/>\n",
       "<polyline clip-path=\"url(#clip082)\" style=\"stroke:#000000; stroke-linecap:butt; stroke-linejoin:round; stroke-width:2; stroke-opacity:0.1; fill:none\" points=\"\n",
       "  2290.34,1486.45 2290.34,47.2441 \n",
       "  \"/>\n",
       "<polyline clip-path=\"url(#clip080)\" style=\"stroke:#000000; stroke-linecap:butt; stroke-linejoin:round; stroke-width:4; stroke-opacity:1; fill:none\" points=\"\n",
       "  147.478,1486.45 2352.76,1486.45 \n",
       "  \"/>\n",
       "<polyline clip-path=\"url(#clip080)\" style=\"stroke:#000000; stroke-linecap:butt; stroke-linejoin:round; stroke-width:4; stroke-opacity:1; fill:none\" points=\"\n",
       "  209.891,1486.45 209.891,1467.55 \n",
       "  \"/>\n",
       "<polyline clip-path=\"url(#clip080)\" style=\"stroke:#000000; stroke-linecap:butt; stroke-linejoin:round; stroke-width:4; stroke-opacity:1; fill:none\" points=\"\n",
       "  556.633,1486.45 556.633,1467.55 \n",
       "  \"/>\n",
       "<polyline clip-path=\"url(#clip080)\" style=\"stroke:#000000; stroke-linecap:butt; stroke-linejoin:round; stroke-width:4; stroke-opacity:1; fill:none\" points=\"\n",
       "  903.375,1486.45 903.375,1467.55 \n",
       "  \"/>\n",
       "<polyline clip-path=\"url(#clip080)\" style=\"stroke:#000000; stroke-linecap:butt; stroke-linejoin:round; stroke-width:4; stroke-opacity:1; fill:none\" points=\"\n",
       "  1250.12,1486.45 1250.12,1467.55 \n",
       "  \"/>\n",
       "<polyline clip-path=\"url(#clip080)\" style=\"stroke:#000000; stroke-linecap:butt; stroke-linejoin:round; stroke-width:4; stroke-opacity:1; fill:none\" points=\"\n",
       "  1596.86,1486.45 1596.86,1467.55 \n",
       "  \"/>\n",
       "<polyline clip-path=\"url(#clip080)\" style=\"stroke:#000000; stroke-linecap:butt; stroke-linejoin:round; stroke-width:4; stroke-opacity:1; fill:none\" points=\"\n",
       "  1943.6,1486.45 1943.6,1467.55 \n",
       "  \"/>\n",
       "<polyline clip-path=\"url(#clip080)\" style=\"stroke:#000000; stroke-linecap:butt; stroke-linejoin:round; stroke-width:4; stroke-opacity:1; fill:none\" points=\"\n",
       "  2290.34,1486.45 2290.34,1467.55 \n",
       "  \"/>\n",
       "<path clip-path=\"url(#clip080)\" d=\"M179.359 1532.02 L209.035 1532.02 L209.035 1535.95 L179.359 1535.95 L179.359 1532.02 Z\" fill=\"#000000\" fill-rule=\"evenodd\" fill-opacity=\"1\" /><path clip-path=\"url(#clip080)\" d=\"M233.294 1530.21 Q236.651 1530.93 238.526 1533.2 Q240.424 1535.47 240.424 1538.8 Q240.424 1543.92 236.905 1546.72 Q233.387 1549.52 226.905 1549.52 Q224.729 1549.52 222.415 1549.08 Q220.123 1548.66 217.669 1547.81 L217.669 1543.29 Q219.614 1544.43 221.928 1545.01 Q224.243 1545.58 226.766 1545.58 Q231.164 1545.58 233.456 1543.85 Q235.771 1542.11 235.771 1538.8 Q235.771 1535.75 233.618 1534.03 Q231.489 1532.3 227.669 1532.3 L223.641 1532.3 L223.641 1528.45 L227.854 1528.45 Q231.303 1528.45 233.132 1527.09 Q234.961 1525.7 234.961 1523.11 Q234.961 1520.45 233.063 1519.03 Q231.188 1517.6 227.669 1517.6 Q225.748 1517.6 223.549 1518.01 Q221.35 1518.43 218.711 1519.31 L218.711 1515.14 Q221.373 1514.4 223.688 1514.03 Q226.026 1513.66 228.086 1513.66 Q233.41 1513.66 236.512 1516.09 Q239.614 1518.5 239.614 1522.62 Q239.614 1525.49 237.97 1527.48 Q236.326 1529.45 233.294 1530.21 Z\" fill=\"#000000\" fill-rule=\"evenodd\" fill-opacity=\"1\" /><path clip-path=\"url(#clip080)\" d=\"M526.576 1532.02 L556.251 1532.02 L556.251 1535.95 L526.576 1535.95 L526.576 1532.02 Z\" fill=\"#000000\" fill-rule=\"evenodd\" fill-opacity=\"1\" /><path clip-path=\"url(#clip080)\" d=\"M570.372 1544.91 L586.691 1544.91 L586.691 1548.85 L564.747 1548.85 L564.747 1544.91 Q567.409 1542.16 571.992 1537.53 Q576.598 1532.88 577.779 1531.53 Q580.024 1529.01 580.904 1527.27 Q581.807 1525.51 581.807 1523.82 Q581.807 1521.07 579.862 1519.33 Q577.941 1517.6 574.839 1517.6 Q572.64 1517.6 570.186 1518.36 Q567.756 1519.13 564.978 1520.68 L564.978 1515.95 Q567.802 1514.82 570.256 1514.24 Q572.71 1513.66 574.747 1513.66 Q580.117 1513.66 583.311 1516.35 Q586.506 1519.03 586.506 1523.52 Q586.506 1525.65 585.696 1527.57 Q584.909 1529.47 582.802 1532.07 Q582.223 1532.74 579.122 1535.95 Q576.02 1539.15 570.372 1544.91 Z\" fill=\"#000000\" fill-rule=\"evenodd\" fill-opacity=\"1\" /><path clip-path=\"url(#clip080)\" d=\"M873.132 1532.02 L902.808 1532.02 L902.808 1535.95 L873.132 1535.95 L873.132 1532.02 Z\" fill=\"#000000\" fill-rule=\"evenodd\" fill-opacity=\"1\" /><path clip-path=\"url(#clip080)\" d=\"M913.711 1544.91 L921.35 1544.91 L921.35 1518.55 L913.039 1520.21 L913.039 1515.95 L921.303 1514.29 L925.979 1514.29 L925.979 1544.91 L933.618 1544.91 L933.618 1548.85 L913.711 1548.85 L913.711 1544.91 Z\" fill=\"#000000\" fill-rule=\"evenodd\" fill-opacity=\"1\" /><path clip-path=\"url(#clip080)\" d=\"M1250.12 1517.37 Q1246.51 1517.37 1244.68 1520.93 Q1242.87 1524.47 1242.87 1531.6 Q1242.87 1538.71 1244.68 1542.27 Q1246.51 1545.82 1250.12 1545.82 Q1253.75 1545.82 1255.56 1542.27 Q1257.39 1538.71 1257.39 1531.6 Q1257.39 1524.47 1255.56 1520.93 Q1253.75 1517.37 1250.12 1517.37 M1250.12 1513.66 Q1255.93 1513.66 1258.98 1518.27 Q1262.06 1522.85 1262.06 1531.6 Q1262.06 1540.33 1258.98 1544.94 Q1255.93 1549.52 1250.12 1549.52 Q1244.31 1549.52 1241.23 1544.94 Q1238.17 1540.33 1238.17 1531.6 Q1238.17 1522.85 1241.23 1518.27 Q1244.31 1513.66 1250.12 1513.66 Z\" fill=\"#000000\" fill-rule=\"evenodd\" fill-opacity=\"1\" /><path clip-path=\"url(#clip080)\" d=\"M1587.24 1544.91 L1594.88 1544.91 L1594.88 1518.55 L1586.57 1520.21 L1586.57 1515.95 L1594.83 1514.29 L1599.51 1514.29 L1599.51 1544.91 L1607.15 1544.91 L1607.15 1548.85 L1587.24 1548.85 L1587.24 1544.91 Z\" fill=\"#000000\" fill-rule=\"evenodd\" fill-opacity=\"1\" /><path clip-path=\"url(#clip080)\" d=\"M1938.25 1544.91 L1954.57 1544.91 L1954.57 1548.85 L1932.63 1548.85 L1932.63 1544.91 Q1935.29 1542.16 1939.87 1537.53 Q1944.48 1532.88 1945.66 1531.53 Q1947.91 1529.01 1948.79 1527.27 Q1949.69 1525.51 1949.69 1523.82 Q1949.69 1521.07 1947.74 1519.33 Q1945.82 1517.6 1942.72 1517.6 Q1940.52 1517.6 1938.07 1518.36 Q1935.64 1519.13 1932.86 1520.68 L1932.86 1515.95 Q1935.68 1514.82 1938.14 1514.24 Q1940.59 1513.66 1942.63 1513.66 Q1948 1513.66 1951.19 1516.35 Q1954.39 1519.03 1954.39 1523.52 Q1954.39 1525.65 1953.58 1527.57 Q1952.79 1529.47 1950.68 1532.07 Q1950.11 1532.74 1947 1535.95 Q1943.9 1539.15 1938.25 1544.91 Z\" fill=\"#000000\" fill-rule=\"evenodd\" fill-opacity=\"1\" /><path clip-path=\"url(#clip080)\" d=\"M2294.59 1530.21 Q2297.95 1530.93 2299.82 1533.2 Q2301.72 1535.47 2301.72 1538.8 Q2301.72 1543.92 2298.2 1546.72 Q2294.68 1549.52 2288.2 1549.52 Q2286.03 1549.52 2283.71 1549.08 Q2281.42 1548.66 2278.97 1547.81 L2278.97 1543.29 Q2280.91 1544.43 2283.22 1545.01 Q2285.54 1545.58 2288.06 1545.58 Q2292.46 1545.58 2294.75 1543.85 Q2297.07 1542.11 2297.07 1538.8 Q2297.07 1535.75 2294.91 1534.03 Q2292.78 1532.3 2288.97 1532.3 L2284.94 1532.3 L2284.94 1528.45 L2289.15 1528.45 Q2292.6 1528.45 2294.43 1527.09 Q2296.26 1525.7 2296.26 1523.11 Q2296.26 1520.45 2294.36 1519.03 Q2292.48 1517.6 2288.97 1517.6 Q2287.04 1517.6 2284.84 1518.01 Q2282.65 1518.43 2280.01 1519.31 L2280.01 1515.14 Q2282.67 1514.4 2284.98 1514.03 Q2287.32 1513.66 2289.38 1513.66 Q2294.71 1513.66 2297.81 1516.09 Q2300.91 1518.5 2300.91 1522.62 Q2300.91 1525.49 2299.27 1527.48 Q2297.62 1529.45 2294.59 1530.21 Z\" fill=\"#000000\" fill-rule=\"evenodd\" fill-opacity=\"1\" /><polyline clip-path=\"url(#clip082)\" style=\"stroke:#000000; stroke-linecap:butt; stroke-linejoin:round; stroke-width:2; stroke-opacity:0.1; fill:none\" points=\"\n",
       "  147.478,1445.72 2352.76,1445.72 \n",
       "  \"/>\n",
       "<polyline clip-path=\"url(#clip082)\" style=\"stroke:#000000; stroke-linecap:butt; stroke-linejoin:round; stroke-width:2; stroke-opacity:0.1; fill:none\" points=\"\n",
       "  147.478,1106.28 2352.76,1106.28 \n",
       "  \"/>\n",
       "<polyline clip-path=\"url(#clip082)\" style=\"stroke:#000000; stroke-linecap:butt; stroke-linejoin:round; stroke-width:2; stroke-opacity:0.1; fill:none\" points=\"\n",
       "  147.478,766.846 2352.76,766.846 \n",
       "  \"/>\n",
       "<polyline clip-path=\"url(#clip082)\" style=\"stroke:#000000; stroke-linecap:butt; stroke-linejoin:round; stroke-width:2; stroke-opacity:0.1; fill:none\" points=\"\n",
       "  147.478,427.411 2352.76,427.411 \n",
       "  \"/>\n",
       "<polyline clip-path=\"url(#clip082)\" style=\"stroke:#000000; stroke-linecap:butt; stroke-linejoin:round; stroke-width:2; stroke-opacity:0.1; fill:none\" points=\"\n",
       "  147.478,87.9763 2352.76,87.9763 \n",
       "  \"/>\n",
       "<polyline clip-path=\"url(#clip080)\" style=\"stroke:#000000; stroke-linecap:butt; stroke-linejoin:round; stroke-width:4; stroke-opacity:1; fill:none\" points=\"\n",
       "  147.478,1486.45 147.478,47.2441 \n",
       "  \"/>\n",
       "<polyline clip-path=\"url(#clip080)\" style=\"stroke:#000000; stroke-linecap:butt; stroke-linejoin:round; stroke-width:4; stroke-opacity:1; fill:none\" points=\"\n",
       "  147.478,1445.72 166.376,1445.72 \n",
       "  \"/>\n",
       "<polyline clip-path=\"url(#clip080)\" style=\"stroke:#000000; stroke-linecap:butt; stroke-linejoin:round; stroke-width:4; stroke-opacity:1; fill:none\" points=\"\n",
       "  147.478,1106.28 166.376,1106.28 \n",
       "  \"/>\n",
       "<polyline clip-path=\"url(#clip080)\" style=\"stroke:#000000; stroke-linecap:butt; stroke-linejoin:round; stroke-width:4; stroke-opacity:1; fill:none\" points=\"\n",
       "  147.478,766.846 166.376,766.846 \n",
       "  \"/>\n",
       "<polyline clip-path=\"url(#clip080)\" style=\"stroke:#000000; stroke-linecap:butt; stroke-linejoin:round; stroke-width:4; stroke-opacity:1; fill:none\" points=\"\n",
       "  147.478,427.411 166.376,427.411 \n",
       "  \"/>\n",
       "<polyline clip-path=\"url(#clip080)\" style=\"stroke:#000000; stroke-linecap:butt; stroke-linejoin:round; stroke-width:4; stroke-opacity:1; fill:none\" points=\"\n",
       "  147.478,87.9763 166.376,87.9763 \n",
       "  \"/>\n",
       "<path clip-path=\"url(#clip080)\" d=\"M51.3625 1446.17 L81.0383 1446.17 L81.0383 1450.1 L51.3625 1450.1 L51.3625 1446.17 Z\" fill=\"#000000\" fill-rule=\"evenodd\" fill-opacity=\"1\" /><path clip-path=\"url(#clip080)\" d=\"M95.1586 1459.06 L111.478 1459.06 L111.478 1463 L89.5336 1463 L89.5336 1459.06 Q92.1956 1456.31 96.7789 1451.68 Q101.385 1447.02 102.566 1445.68 Q104.811 1443.16 105.691 1441.42 Q106.594 1439.66 106.594 1437.97 Q106.594 1435.22 104.649 1433.48 Q102.728 1431.75 99.6261 1431.75 Q97.4271 1431.75 94.9734 1432.51 Q92.5428 1433.27 89.7651 1434.82 L89.7651 1430.1 Q92.5891 1428.97 95.0428 1428.39 Q97.4965 1427.81 99.5335 1427.81 Q104.904 1427.81 108.098 1430.5 Q111.293 1433.18 111.293 1437.67 Q111.293 1439.8 110.483 1441.72 Q109.696 1443.62 107.589 1446.21 Q107.01 1446.88 103.909 1450.1 Q100.807 1453.3 95.1586 1459.06 Z\" fill=\"#000000\" fill-rule=\"evenodd\" fill-opacity=\"1\" /><path clip-path=\"url(#clip080)\" d=\"M50.9921 1106.73 L80.6679 1106.73 L80.6679 1110.67 L50.9921 1110.67 L50.9921 1106.73 Z\" fill=\"#000000\" fill-rule=\"evenodd\" fill-opacity=\"1\" /><path clip-path=\"url(#clip080)\" d=\"M91.5706 1119.63 L99.2095 1119.63 L99.2095 1093.26 L90.8993 1094.93 L90.8993 1090.67 L99.1632 1089 L103.839 1089 L103.839 1119.63 L111.478 1119.63 L111.478 1123.56 L91.5706 1123.56 L91.5706 1119.63 Z\" fill=\"#000000\" fill-rule=\"evenodd\" fill-opacity=\"1\" /><path clip-path=\"url(#clip080)\" d=\"M99.5335 752.645 Q95.9224 752.645 94.0937 756.209 Q92.2882 759.751 92.2882 766.881 Q92.2882 773.987 94.0937 777.552 Q95.9224 781.094 99.5335 781.094 Q103.168 781.094 104.973 777.552 Q106.802 773.987 106.802 766.881 Q106.802 759.751 104.973 756.209 Q103.168 752.645 99.5335 752.645 M99.5335 748.941 Q105.344 748.941 108.399 753.547 Q111.478 758.131 111.478 766.881 Q111.478 775.608 108.399 780.214 Q105.344 784.797 99.5335 784.797 Q93.7234 784.797 90.6447 780.214 Q87.5892 775.608 87.5892 766.881 Q87.5892 758.131 90.6447 753.547 Q93.7234 748.941 99.5335 748.941 Z\" fill=\"#000000\" fill-rule=\"evenodd\" fill-opacity=\"1\" /><path clip-path=\"url(#clip080)\" d=\"M91.5706 440.756 L99.2095 440.756 L99.2095 414.39 L90.8993 416.057 L90.8993 411.798 L99.1632 410.131 L103.839 410.131 L103.839 440.756 L111.478 440.756 L111.478 444.691 L91.5706 444.691 L91.5706 440.756 Z\" fill=\"#000000\" fill-rule=\"evenodd\" fill-opacity=\"1\" /><path clip-path=\"url(#clip080)\" d=\"M95.1586 101.321 L111.478 101.321 L111.478 105.256 L89.5336 105.256 L89.5336 101.321 Q92.1956 98.5665 96.7789 93.9369 Q101.385 89.2841 102.566 87.9416 Q104.811 85.4184 105.691 83.6823 Q106.594 81.9231 106.594 80.2333 Q106.594 77.4786 104.649 75.7425 Q102.728 74.0064 99.6261 74.0064 Q97.4271 74.0064 94.9734 74.7703 Q92.5428 75.5342 89.7651 77.0851 L89.7651 72.3629 Q92.5891 71.2287 95.0428 70.65 Q97.4965 70.0713 99.5335 70.0713 Q104.904 70.0713 108.098 72.7565 Q111.293 75.4416 111.293 79.9323 Q111.293 82.062 110.483 83.9832 Q109.696 85.8814 107.589 88.474 Q107.01 89.1453 103.909 92.3628 Q100.807 95.5573 95.1586 101.321 Z\" fill=\"#000000\" fill-rule=\"evenodd\" fill-opacity=\"1\" /><polyline clip-path=\"url(#clip082)\" style=\"stroke:#009af9; stroke-linecap:butt; stroke-linejoin:round; stroke-width:4; stroke-opacity:1; fill:none\" points=\"\n",
       "  209.891,1445.72 244.566,1437.18 279.24,1428.53 313.914,1419.76 348.588,1410.88 383.262,1401.87 417.937,1392.73 452.611,1383.46 487.285,1374.05 521.959,1364.48 \n",
       "  556.633,1354.76 591.307,1344.88 625.982,1334.83 660.656,1324.59 695.33,1314.17 730.004,1303.54 764.678,1292.7 799.353,1281.62 834.027,1270.31 868.701,1258.73 \n",
       "  903.375,1246.88 938.049,1234.72 972.723,1222.25 1007.4,1209.41 1042.07,1196.2 1076.75,1182.57 1111.42,1168.47 1146.09,1153.86 1180.77,1138.68 1215.44,1122.85 \n",
       "  1250.12,1106.28 1284.79,1088.86 1319.47,1070.45 1354.14,1050.84 1388.81,1029.77 1423.49,1006.86 1458.16,981.523 1492.84,952.762 1527.51,918.646 1562.18,874.185 \n",
       "  1596.86,766.846 1631.53,766.846 1666.21,766.846 1700.88,766.846 1735.56,766.846 1770.23,766.846 1804.9,766.846 1839.58,766.846 1874.25,766.846 1908.93,766.846 \n",
       "  1943.6,766.846 1978.27,766.846 2012.95,766.846 2047.62,766.846 2082.3,766.846 2116.97,766.846 2151.65,766.846 2186.32,766.846 2220.99,766.846 2255.67,766.846 \n",
       "  2290.34,766.846 \n",
       "  \"/>\n",
       "<polyline clip-path=\"url(#clip082)\" style=\"stroke:#e26f46; stroke-linecap:butt; stroke-linejoin:round; stroke-width:4; stroke-opacity:1; fill:none\" points=\"\n",
       "  209.891,87.9763 244.566,96.5159 279.24,105.166 313.914,113.93 348.588,122.814 383.262,131.822 417.937,140.959 452.611,150.232 487.285,159.646 521.959,169.209 \n",
       "  556.633,178.928 591.307,188.809 625.982,198.863 660.656,209.098 695.33,219.524 730.004,230.152 764.678,240.996 799.353,252.068 834.027,263.383 868.701,274.958 \n",
       "  903.375,286.813 938.049,298.967 972.723,311.446 1007.4,324.277 1042.07,337.491 1076.75,351.125 1111.42,365.221 1146.09,379.831 1180.77,395.014 1215.44,410.844 \n",
       "  1250.12,427.411 1284.79,444.83 1319.47,463.246 1354.14,482.854 1388.81,503.921 1423.49,526.829 1458.16,552.169 1492.84,580.93 1527.51,615.046 1562.18,659.507 \n",
       "  1596.86,766.846 1631.53,766.846 1666.21,766.846 1700.88,766.846 1735.56,766.846 1770.23,766.846 1804.9,766.846 1839.58,766.846 1874.25,766.846 1908.93,766.846 \n",
       "  1943.6,766.846 1978.27,766.846 2012.95,766.846 2047.62,766.846 2082.3,766.846 2116.97,766.846 2151.65,766.846 2186.32,766.846 2220.99,766.846 2255.67,766.846 \n",
       "  2290.34,766.846 \n",
       "  \"/>\n",
       "<path clip-path=\"url(#clip080)\" d=\"\n",
       "M1986.82 250.738 L2279.25 250.738 L2279.25 95.2176 L1986.82 95.2176  Z\n",
       "  \" fill=\"#ffffff\" fill-rule=\"evenodd\" fill-opacity=\"1\"/>\n",
       "<polyline clip-path=\"url(#clip080)\" style=\"stroke:#000000; stroke-linecap:butt; stroke-linejoin:round; stroke-width:4; stroke-opacity:1; fill:none\" points=\"\n",
       "  1986.82,250.738 2279.25,250.738 2279.25,95.2176 1986.82,95.2176 1986.82,250.738 \n",
       "  \"/>\n",
       "<polyline clip-path=\"url(#clip080)\" style=\"stroke:#009af9; stroke-linecap:butt; stroke-linejoin:round; stroke-width:4; stroke-opacity:1; fill:none\" points=\"\n",
       "  2010.82,147.058 2154.82,147.058 \n",
       "  \"/>\n",
       "<path clip-path=\"url(#clip080)\" d=\"M2192.66 166.745 Q2190.85 171.375 2189.14 172.787 Q2187.43 174.199 2184.56 174.199 L2181.15 174.199 L2181.15 170.634 L2183.65 170.634 Q2185.41 170.634 2186.39 169.8 Q2187.36 168.967 2188.54 165.865 L2189.3 163.921 L2178.82 138.412 L2183.33 138.412 L2191.43 158.689 L2199.53 138.412 L2204.05 138.412 L2192.66 166.745 Z\" fill=\"#000000\" fill-rule=\"evenodd\" fill-opacity=\"1\" /><path clip-path=\"url(#clip080)\" d=\"M2211.34 160.402 L2218.98 160.402 L2218.98 134.037 L2210.67 135.703 L2210.67 131.444 L2218.93 129.778 L2223.61 129.778 L2223.61 160.402 L2231.25 160.402 L2231.25 164.338 L2211.34 164.338 L2211.34 160.402 Z\" fill=\"#000000\" fill-rule=\"evenodd\" fill-opacity=\"1\" /><polyline clip-path=\"url(#clip080)\" style=\"stroke:#e26f46; stroke-linecap:butt; stroke-linejoin:round; stroke-width:4; stroke-opacity:1; fill:none\" points=\"\n",
       "  2010.82,198.898 2154.82,198.898 \n",
       "  \"/>\n",
       "<path clip-path=\"url(#clip080)\" d=\"M2192.66 218.585 Q2190.85 223.215 2189.14 224.627 Q2187.43 226.039 2184.56 226.039 L2181.15 226.039 L2181.15 222.474 L2183.65 222.474 Q2185.41 222.474 2186.39 221.64 Q2187.36 220.807 2188.54 217.705 L2189.3 215.761 L2178.82 190.252 L2183.33 190.252 L2191.43 210.529 L2199.53 190.252 L2204.05 190.252 L2192.66 218.585 Z\" fill=\"#000000\" fill-rule=\"evenodd\" fill-opacity=\"1\" /><path clip-path=\"url(#clip080)\" d=\"M2214.56 212.242 L2230.88 212.242 L2230.88 216.178 L2208.93 216.178 L2208.93 212.242 Q2211.59 209.488 2216.18 204.858 Q2220.78 200.205 2221.96 198.863 Q2224.21 196.34 2225.09 194.604 Q2225.99 192.844 2225.99 191.155 Q2225.99 188.4 2224.05 186.664 Q2222.13 184.928 2219.02 184.928 Q2216.83 184.928 2214.37 185.692 Q2211.94 186.455 2209.16 188.006 L2209.16 183.284 Q2211.99 182.15 2214.44 181.571 Q2216.89 180.993 2218.93 180.993 Q2224.3 180.993 2227.5 183.678 Q2230.69 186.363 2230.69 190.854 Q2230.69 192.983 2229.88 194.905 Q2229.09 196.803 2226.99 199.395 Q2226.41 200.067 2223.31 203.284 Q2220.21 206.479 2214.56 212.242 Z\" fill=\"#000000\" fill-rule=\"evenodd\" fill-opacity=\"1\" /></svg>\n"
      ]
     },
     "metadata": {},
     "output_type": "display_data"
    }
   ],
   "source": [
    "plot(xr, jr1)\n",
    "plot!(xr, jr2)"
   ]
  },
  {
   "cell_type": "code",
   "execution_count": 4,
   "metadata": {},
   "outputs": [
    {
     "data": {
      "text/plain": [
       "3×1 Matrix{Vector{Float64}}:\n",
       " [-3.0, -3.0]\n",
       " [-2.9, -2.9]\n",
       " [-2.8, -2.8]"
      ]
     },
     "metadata": {},
     "output_type": "display_data"
    }
   ],
   "source": [
    "xr = Vector(-3:0.1:3)\n",
    "yr = Vector(-3:0.1:3)\n",
    "v = [[a,b] for (a,b) in zip(xr, yr)];\n",
    "v[1:3,:]"
   ]
  },
  {
   "cell_type": "code",
   "execution_count": 5,
   "metadata": {},
   "outputs": [
    {
     "data": {
      "text/plain": [
       "3×61 Matrix{Vector{Float64}}:\n",
       " [5.0, 6.0]  [4.41, 5.9]  [3.84, 5.8]  …  [4.41, 0.1]   [5.0, 0.0]\n",
       " [5.1, 5.9]  [4.51, 5.8]  [3.94, 5.7]     [4.51, 0.0]   [5.1, -0.1]\n",
       " [5.2, 5.8]  [4.61, 5.7]  [4.04, 5.6]     [4.61, -0.1]  [5.2, -0.2]"
      ]
     },
     "metadata": {},
     "output_type": "display_data"
    }
   ],
   "source": [
    "# simple1_constraints(v[1])\n",
    "c= [simple1_constraints([a,b]) for a=xr, b=yr]\n",
    "c[1:3, :]"
   ]
  },
  {
   "cell_type": "code",
   "execution_count": 21,
   "metadata": {},
   "outputs": [
    {
     "data": {
      "text/plain": [
       "3721-element Vector{Any}:\n",
       "  5.0\n",
       "  4.41\n",
       "  3.839999999999999\n",
       "  3.290000000000001\n",
       "  2.7600000000000007\n",
       "  2.25\n",
       "  1.7599999999999998\n",
       "  1.2899999999999991\n",
       "  0.8400000000000007\n",
       "  0.41000000000000014\n",
       "  ⋮\n",
       "  6.840000000000001\n",
       "  7.289999999999999\n",
       "  7.76\n",
       "  8.25\n",
       "  8.760000000000002\n",
       "  9.290000000000001\n",
       "  9.84\n",
       " 10.41\n",
       " 11.0"
      ]
     },
     "metadata": {},
     "output_type": "display_data"
    }
   ],
   "source": [
    "c1 = []\n",
    "s1 = size(c, 1)\n",
    "for row = 1:s1\n",
    "    for col = 1:s1\n",
    "        push!(c1, c[row, col][1])\n",
    "    end\n",
    "end\n",
    "\n",
    "\n",
    "# c1 = reshape(c1, s1, s1);\n",
    "c1"
   ]
  },
  {
   "cell_type": "code",
   "execution_count": 25,
   "metadata": {},
   "outputs": [
    {
     "data": {
      "text/plain": [
       "5-element Vector{Any}:\n",
       " 0.0\n",
       " 0.0\n",
       " 0.0\n",
       " 0.0\n",
       " 0.0"
      ]
     },
     "metadata": {},
     "output_type": "display_data"
    }
   ],
   "source": [
    "filter(x-> (x == 0), c1)"
   ]
  },
  {
   "cell_type": "code",
   "execution_count": 20,
   "metadata": {},
   "outputs": [
    {
     "data": {
      "text/plain": [
       "3721-element BitVector:\n",
       " 0\n",
       " 0\n",
       " 0\n",
       " 0\n",
       " 0\n",
       " 0\n",
       " 0\n",
       " 0\n",
       " 0\n",
       " 0\n",
       " ⋮\n",
       " 0\n",
       " 0\n",
       " 0\n",
       " 0\n",
       " 0\n",
       " 0\n",
       " 0\n",
       " 0\n",
       " 0"
      ]
     },
     "metadata": {},
     "output_type": "display_data"
    }
   ],
   "source": [
    "c1_filt = c1 .== 0"
   ]
  },
  {
   "cell_type": "code",
   "execution_count": 24,
   "metadata": {},
   "outputs": [
    {
     "ename": "ErrorException",
     "evalue": "syntax: invalid identifier name \".\"",
     "output_type": "error",
     "traceback": [
      "syntax: invalid identifier name \".\"\n",
      "\n",
      "Stacktrace:\n",
      "  [1] top-level scope\n",
      "    @ ~/My Drive/CS361_Optim/AA222Project2/project2_jl/test02.ipynb:1\n",
      "  [2] eval\n",
      "    @ ./boot.jl:373 [inlined]\n",
      "  [3] include_string(mapexpr::typeof(REPL.softscope), mod::Module, code::String, filename::String)\n",
      "    @ Base ./loading.jl:1196\n",
      "  [4] #invokelatest#2\n",
      "    @ ./essentials.jl:716 [inlined]\n",
      "  [5] invokelatest\n",
      "    @ ./essentials.jl:714 [inlined]\n",
      "  [6] (::VSCodeServer.var\"#164#165\"{VSCodeServer.NotebookRunCellArguments, String})()\n",
      "    @ VSCodeServer ~/.vscode/extensions/julialang.language-julia-1.6.17/scripts/packages/VSCodeServer/src/serve_notebook.jl:19\n",
      "  [7] withpath(f::VSCodeServer.var\"#164#165\"{VSCodeServer.NotebookRunCellArguments, String}, path::String)\n",
      "    @ VSCodeServer ~/.vscode/extensions/julialang.language-julia-1.6.17/scripts/packages/VSCodeServer/src/repl.jl:184\n",
      "  [8] notebook_runcell_request(conn::VSCodeServer.JSONRPC.JSONRPCEndpoint{Base.PipeEndpoint, Base.PipeEndpoint}, params::VSCodeServer.NotebookRunCellArguments)\n",
      "    @ VSCodeServer ~/.vscode/extensions/julialang.language-julia-1.6.17/scripts/packages/VSCodeServer/src/serve_notebook.jl:13\n",
      "  [9] dispatch_msg(x::VSCodeServer.JSONRPC.JSONRPCEndpoint{Base.PipeEndpoint, Base.PipeEndpoint}, dispatcher::VSCodeServer.JSONRPC.MsgDispatcher, msg::Dict{String, Any})\n",
      "    @ VSCodeServer.JSONRPC ~/.vscode/extensions/julialang.language-julia-1.6.17/scripts/packages/JSONRPC/src/typed.jl:67\n",
      " [10] serve_notebook(pipename::String, outputchannel_logger::Base.CoreLogging.SimpleLogger; crashreporting_pipename::String)\n",
      "    @ VSCodeServer ~/.vscode/extensions/julialang.language-julia-1.6.17/scripts/packages/VSCodeServer/src/serve_notebook.jl:136\n",
      " [11] top-level scope\n",
      "    @ ~/.vscode/extensions/julialang.language-julia-1.6.17/scripts/notebook/notebook.jl:32\n",
      " [12] include(mod::Module, _path::String)\n",
      "    @ Base ./Base.jl:418\n",
      " [13] exec_options(opts::Base.JLOptions)\n",
      "    @ Base ./client.jl:292\n",
      " [14] _start()\n",
      "    @ Base ./client.jl:495"
     ]
    }
   ],
   "source": [
    "c1[c1_filt]"
   ]
  },
  {
   "cell_type": "code",
   "execution_count": null,
   "metadata": {},
   "outputs": [],
   "source": [
    "a = [[5.0, 6.0]  [4.41, 5.9]  [3.84, 5.8]]"
   ]
  },
  {
   "cell_type": "code",
   "execution_count": 119,
   "metadata": {},
   "outputs": [
    {
     "data": {
      "text/plain": [
       "2-element Vector{Float64}:\n",
       "  1.5\n",
       " -1.5"
      ]
     },
     "metadata": {},
     "output_type": "display_data"
    }
   ],
   "source": [
    "simple2_constraints([1, -0.5])"
   ]
  },
  {
   "cell_type": "code",
   "execution_count": 1,
   "metadata": {},
   "outputs": [],
   "source": [
    "using LinearAlgebra"
   ]
  },
  {
   "cell_type": "code",
   "execution_count": 5,
   "metadata": {},
   "outputs": [
    {
     "data": {
      "text/plain": [
       "2×2 Matrix{Float64}:\n",
       " 1.0  0.0\n",
       " 0.0  1.0"
      ]
     },
     "metadata": {},
     "output_type": "display_data"
    }
   ],
   "source": [
    "m =2\n",
    "mm = Matrix(1.0 * I, m, m)"
   ]
  },
  {
   "cell_type": "code",
   "execution_count": 7,
   "metadata": {},
   "outputs": [
    {
     "data": {
      "text/plain": [
       "2-element Vector{Float64}:\n",
       " 1.0\n",
       " 0.0"
      ]
     },
     "metadata": {},
     "output_type": "display_data"
    }
   ],
   "source": [
    "mm[1,:]"
   ]
  },
  {
   "cell_type": "code",
   "execution_count": 14,
   "metadata": {},
   "outputs": [
    {
     "name": "stdout",
     "output_type": "stream",
     "text": [
      "1\n",
      "bye!\n",
      "2\n",
      "bye!\n",
      "3\n",
      "bye!\n",
      "4\n",
      "bye!\n",
      "5\n",
      "bye!\n",
      "6\n"
     ]
    }
   ],
   "source": [
    "function test()\n",
    "    for i = 1:20\n",
    "        println(i)\n",
    "        if i > 5\n",
    "            return \n",
    "        end\n",
    "        println(\"bye!\")\n",
    "    end\n",
    "    println(\"bye in function\")\n",
    "end\n",
    "test()\n"
   ]
  },
  {
   "cell_type": "code",
   "execution_count": 15,
   "metadata": {},
   "outputs": [
    {
     "data": {
      "text/plain": [
       "7-element Vector{Float64}:\n",
       " 1.0\n",
       " 2.0\n",
       " 3.0\n",
       " 4.0\n",
       " 5.01\n",
       " 5.02\n",
       " 5.002"
      ]
     },
     "metadata": {},
     "output_type": "display_data"
    }
   ],
   "source": [
    "arr = [1,2,3,4,5.01,5.02, 5.002]"
   ]
  },
  {
   "cell_type": "code",
   "execution_count": 16,
   "metadata": {},
   "outputs": [
    {
     "data": {
      "text/plain": [
       "5.02"
      ]
     },
     "metadata": {},
     "output_type": "display_data"
    }
   ],
   "source": [
    "arr[end-1]"
   ]
  },
  {
   "cell_type": "code",
   "execution_count": 20,
   "metadata": {},
   "outputs": [
    {
     "name": "stdout",
     "output_type": "stream",
     "text": [
      "-0.017999999999999794\n",
      "-0.017999999999999794\n",
      "-0.017999999999999794\n",
      "-0.017999999999999794\n",
      "-0.017999999999999794\n",
      "convergence!-0.08999999999999897\n"
     ]
    }
   ],
   "source": [
    "total_diff = 0\n",
    "for i = 1:5\n",
    "    diff = arr[end] - arr[end-1]\n",
    "    println(diff)\n",
    "    total_diff += diff\n",
    "end\n",
    "\n",
    "if total_diff < 1\n",
    "    print(\"convergence!\")\n",
    "end\n",
    "println(total_diff)"
   ]
  },
  {
   "cell_type": "markdown",
   "metadata": {},
   "source": [
    "# generate a positive spanning set "
   ]
  },
  {
   "cell_type": "code",
   "execution_count": 8,
   "metadata": {},
   "outputs": [
    {
     "data": {
      "text/plain": [
       "2-element Vector{Vector{Int64}}:\n",
       " [1, 0]\n",
       " [1, 0]"
      ]
     },
     "metadata": {},
     "output_type": "display_data"
    }
   ],
   "source": [
    "# need 3 linearly independent vectors\n",
    "# start with basis vectors\n",
    "i = [1; 0]\n",
    "j = [1;0]\n",
    "s = [i,j]\n",
    "s = [1 2; 3 5]"
   ]
  },
  {
   "cell_type": "code",
   "execution_count": 16,
   "metadata": {},
   "outputs": [
    {
     "data": {
      "text/plain": [
       "2-element Vector{Vector{Int64}}:\n",
       " [1, 2]\n",
       " [3, 5]"
      ]
     },
     "metadata": {},
     "output_type": "display_data"
    }
   ],
   "source": [
    "D = [[1; 2],  [3; 5]]"
   ]
  },
  {
   "cell_type": "code",
   "execution_count": 21,
   "metadata": {},
   "outputs": [
    {
     "name": "stdout",
     "output_type": "stream",
     "text": [
      "[3, 6]\n",
      "[7, 12]\n",
      "[-13, -4]\n"
     ]
    }
   ],
   "source": [
    "D = [[1, 2],  [3, 5], [-7, -3]]\n",
    "x = [1,2]\n",
    "for (i, d) in enumerate(D)\n",
    "    println(x + 2*d)\n",
    "end"
   ]
  },
  {
   "cell_type": "code",
   "execution_count": 19,
   "metadata": {},
   "outputs": [
    {
     "data": {
      "text/plain": [
       "2-element Vector{Int64}:\n",
       " 1\n",
       " 2"
      ]
     },
     "metadata": {},
     "output_type": "display_data"
    }
   ],
   "source": []
  },
  {
   "cell_type": "code",
   "execution_count": null,
   "metadata": {},
   "outputs": [],
   "source": [
    "2*"
   ]
  }
 ],
 "metadata": {
  "kernelspec": {
   "display_name": "Julia 1.7.2",
   "language": "julia",
   "name": "julia-1.7"
  },
  "language_info": {
   "file_extension": ".jl",
   "mimetype": "application/julia",
   "name": "julia",
   "version": "1.7.2"
  },
  "orig_nbformat": 4
 },
 "nbformat": 4,
 "nbformat_minor": 2
}
